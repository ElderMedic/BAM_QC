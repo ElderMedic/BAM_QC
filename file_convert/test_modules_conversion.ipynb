{
 "cells": [
  {
   "cell_type": "code",
   "execution_count": 2,
   "metadata": {},
   "outputs": [],
   "source": [
    "from copy import deepcopy\n",
    "import json\n",
    "import os\n",
    "import re\n",
    "import sys"
   ]
  },
  {
   "cell_type": "code",
   "execution_count": 49,
   "metadata": {},
   "outputs": [],
   "source": [
    "test='251315\t|\t131567 2157 28890 2290931 183963 2235 2236 2239 \t|'\n",
    "item = [re.sub(r'\\s+\\|\\s+', '', x) for x in test.rstrip(os.linesep).split('\\t|\\t')]"
   ]
  },
  {
   "cell_type": "code",
   "execution_count": 50,
   "metadata": {},
   "outputs": [],
   "source": [
    "item_new=item[1].rstrip(' \\t|')\n",
    "kk=item[0]"
   ]
  },
  {
   "cell_type": "code",
   "execution_count": 84,
   "metadata": {},
   "outputs": [
    {
     "data": {
      "text/plain": [
       "\"['2239', '2236', '2235', '183963', '2290931', '28890', '2157', '131567']\""
      ]
     },
     "execution_count": 84,
     "metadata": {},
     "output_type": "execute_result"
    }
   ],
   "source": [
    "nn=item_new.split(' ')\n",
    "nn.reverse()\n"
   ]
  },
  {
   "cell_type": "code",
   "execution_count": 55,
   "metadata": {},
   "outputs": [
    {
     "data": {
      "text/plain": [
       "['2239', '2236', '2235', '183963', '2290931', '28890', '2157', '131567']"
      ]
     },
     "execution_count": 55,
     "metadata": {},
     "output_type": "execute_result"
    }
   ],
   "source": [
    "nn"
   ]
  },
  {
   "cell_type": "code",
   "execution_count": 105,
   "metadata": {},
   "outputs": [],
   "source": [
    "def new_read_dmp(dmpfile):\n",
    "    tmp_dict={}\n",
    "    with open(dmpfile) as rd:\n",
    "        for line in rd:\n",
    "            item=[re.sub(r'\\s+\\|\\s+', '', x) for x in line.rstrip(os.linesep).split('\\t|\\t')]\n",
    "            key=int(item[0])\n",
    "            value=item[1].rstrip(' \\t|')\n",
    "            tmp_dict[key]=value\n",
    "    return tmp_dict\n",
    "\n",
    "def treat_value(v):\n",
    "    tmpv=v.split(' ')\n",
    "    tmpv.reverse()\n",
    "    tmpv.append('1')\n",
    "    return tmpv\n",
    "\n",
    "dict1=new_read_dmp(\"/home/kechanglin/data/data_conversion/taxidlineage.dmp\")\n",
    "    \n",
    "dict2={}\n",
    "for key in dict1.keys():\n",
    "    dict2[key]=treat_value(dict1[key])\n",
    "    \n",
    "list1=sorted(dict2.items(),key=lambda sort:sort[0] ,reverse=False)\n",
    "\n"
   ]
  },
  {
   "cell_type": "code",
   "execution_count": 25,
   "metadata": {},
   "outputs": [],
   "source": [
    "dict1=new_read_dmp(\"/home/kechanglin/data/data_conversion/taxidlineage.dmp\")"
   ]
  },
  {
   "cell_type": "code",
   "execution_count": 86,
   "metadata": {},
   "outputs": [],
   "source": [
    "dict2={}\n",
    "for key in dict1.keys():\n",
    "    dict2[key]=treat_value(dict1[key])"
   ]
  },
  {
   "cell_type": "code",
   "execution_count": 100,
   "metadata": {},
   "outputs": [
    {
     "name": "stdout",
     "output_type": "stream",
     "text": [
      "  1004298     121871    1644061    1644060    183963    2290931    28890    2157    131567    1   \n"
     ]
    }
   ],
   "source": [
    "# print(re.sub(r'\\D',' ',str(list1[1])))"
   ]
  },
  {
   "cell_type": "code",
   "execution_count": 98,
   "metadata": {},
   "outputs": [
    {
     "data": {
      "text/plain": [
       "\"('1004298', ['121871', '1644061', '1644060', '183963', '2290931', '28890', '2157', '131567', '1'])\""
      ]
     },
     "execution_count": 98,
     "metadata": {},
     "output_type": "execute_result"
    }
   ],
   "source": [
    "# str(list1[1])"
   ]
  },
  {
   "cell_type": "code",
   "execution_count": 107,
   "metadata": {},
   "outputs": [],
   "source": [
    "with open('/home/kechanglin/data/data_conversion/result_taxidlineage','a+') as w:\n",
    "    for i in list1:\n",
    "        result=re.sub(r'\\D',' ',str(i))\n",
    "        w.write(result+'\\n')"
   ]
  },
  {
   "cell_type": "code",
   "execution_count": null,
   "metadata": {},
   "outputs": [],
   "source": []
  }
 ],
 "metadata": {
  "kernelspec": {
   "display_name": "Python 3",
   "language": "python",
   "name": "python3"
  },
  "language_info": {
   "codemirror_mode": {
    "name": "ipython",
    "version": 3
   },
   "file_extension": ".py",
   "mimetype": "text/x-python",
   "name": "python",
   "nbconvert_exporter": "python",
   "pygments_lexer": "ipython3",
   "version": "3.7.3"
  }
 },
 "nbformat": 4,
 "nbformat_minor": 2
}
