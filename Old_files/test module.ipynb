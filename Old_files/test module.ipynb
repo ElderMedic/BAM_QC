{
 "cells": [
  {
   "cell_type": "code",
   "execution_count": 32,
   "metadata": {},
   "outputs": [],
   "source": [
    "import os\n",
    "\n",
    "#this module aims to test bam file's format via ValidateSamFile (a java picard tool)\n",
    "#if VSF output ERROR then break and show user the ERROR info for format correction\n",
    "#otherwise it shall continue the qc process\n",
    "\n",
    "location=\"/home/kechanglin/data/new_test.bam\" #input a bam's directory\n",
    "valinfo=os.popen(\"java -jar /home/kechanglin/picard.jar ValidateSamFile I=\"+location+\" MODE=SUMMARY\")"
   ]
  },
  {
   "cell_type": "code",
   "execution_count": 33,
   "metadata": {},
   "outputs": [],
   "source": [
    "import re\n",
    "\n",
    "def validateBAM(valinfo):\n",
    "    for i in valinfo:\n",
    "        if not re.match('ERROR',str(i))== None:\n",
    "            print(i)\n",
    "    "
   ]
  },
  {
   "cell_type": "code",
   "execution_count": 34,
   "metadata": {},
   "outputs": [
    {
     "name": "stdout",
     "output_type": "stream",
     "text": [
      "ERROR:INVALID_MAPPING_QUALITY\t39161\n",
      "\n",
      "ERROR:MISSING_PLATFORM_VALUE\t1\n",
      "\n"
     ]
    }
   ],
   "source": [
    "validateBAM(valinfo)"
   ]
  },
  {
   "cell_type": "code",
   "execution_count": 170,
   "metadata": {},
   "outputs": [],
   "source": [
    "import pysam\n",
    "location1=\"/data/yangxiaoxia/bqsr.bam\"\n",
    "psentity=pysam.AlignmentFile(location1,'rb')\n"
   ]
  },
  {
   "cell_type": "code",
   "execution_count": 119,
   "metadata": {},
   "outputs": [
    {
     "name": "stdout",
     "output_type": "stream",
     "text": [
      "mgiseq\n"
     ]
    }
   ],
   "source": [
    "# BAMheader=pysam.view(\"-H\",location1)\n",
    "a=str(re.findall(r'PL:\\w+',BAMheader))[5:-2] #output platform name\n",
    "print(a)\n"
   ]
  },
  {
   "cell_type": "code",
   "execution_count": 117,
   "metadata": {},
   "outputs": [
    {
     "name": "stdout",
     "output_type": "stream",
     "text": [
      "@HD\tVN:1.6\tSO:coordinate\n",
      "@SQ\tSN:chr6\tLN:171115067\n",
      "@RG\tID:1\tLB:lib1\tPL:mgiseq\tSM:test\tPU:unit1\n",
      "@PG\tID:bwa\tPN:bwa\tVN:0.7.15-r1140\tCL:bwa mem chr6.fasta V100007471_L03_539_1.clean.fq.gz V100007471_L03_539_2.clean.fq.gz\n",
      "@PG\tID:MarkDuplicates\tVN:Version:4.1.2.0\tCL:MarkDuplicates  --INPUT aln-pe.chr6.sort.bam --OUTPUT marked_duplicates.bam --METRICS_FILE marked_dup_metrics.txt  --MAX_SEQUENCES_FOR_DISK_READ_ENDS_MAP 50000 --MAX_FILE_HANDLES_FOR_READ_ENDS_MAP 8000 --SORTING_COLLECTION_SIZE_RATIO 0.25 --TAG_DUPLICATE_SET_MEMBERS false --REMOVE_SEQUENCING_DUPLICATES false --TAGGING_POLICY DontTag --CLEAR_DT true --DUPLEX_UMI false --ADD_PG_TAG_TO_READS true --REMOVE_DUPLICATES false --ASSUME_SORTED false --DUPLICATE_SCORING_STRATEGY SUM_OF_BASE_QUALITIES --PROGRAM_RECORD_ID MarkDuplicates --PROGRAM_GROUP_NAME MarkDuplicates --READ_NAME_REGEX <optimized capture of last three ':' separated fields as numeric values> --OPTICAL_DUPLICATE_PIXEL_DISTANCE 100 --MAX_OPTICAL_DUPLICATE_SET_SIZE 300000 --VERBOSITY INFO --QUIET false --VALIDATION_STRINGENCY STRICT --COMPRESSION_LEVEL 5 --MAX_RECORDS_IN_RAM 500000 --CREATE_INDEX false --CREATE_MD5_FILE false --GA4GH_CLIENT_SECRETS client_secrets.json --help false --version false --showHidden false --USE_JDK_DEFLATER false --USE_JDK_INFLATER false\tPN:MarkDuplicates\n",
      "@PG\tID:GATK ApplyBQSR\tVN:4.1.2.0\tCL:ApplyBQSR  --output bqsr.bam --bqsr-recal-file recal_data.table --input marked_duplicates.rg.bam --reference chr6.fasta  --preserve-qscores-less-than 6 --use-original-qualities false --quantize-quals 0 --round-down-quantized false --emit-original-quals false --global-qscore-prior -1.0 --interval-set-rule UNION --interval-padding 0 --interval-exclusion-padding 0 --interval-merging-rule ALL --read-validation-stringency SILENT --seconds-between-progress-updates 10.0 --disable-sequence-dictionary-validation false --create-output-bam-index true --create-output-bam-md5 false --create-output-variant-index true --create-output-variant-md5 false --lenient false --add-output-sam-program-record true --add-output-vcf-command-line true --cloud-prefetch-buffer 40 --cloud-index-prefetch-buffer -1 --disable-bam-index-caching false --sites-only-vcf-output false --help false --version false --showHidden false --verbosity INFO --QUIET false --use-jdk-deflater false --use-jdk-inflater false --gcs-max-retries 20 --gcs-project-for-requester-pays  --disable-tool-default-read-filters false\tPN:GATK ApplyBQSR\n",
      "\n"
     ]
    }
   ],
   "source": [
    "print(BAMheader)"
   ]
  },
  {
   "cell_type": "code",
   "execution_count": 213,
   "metadata": {},
   "outputs": [
    {
     "data": {
      "text/plain": [
       "'PL:mgiseq'"
      ]
     },
     "execution_count": 213,
     "metadata": {},
     "output_type": "execute_result"
    }
   ],
   "source": [
    "BAMheader[67:76]"
   ]
  },
  {
   "cell_type": "code",
   "execution_count": 224,
   "metadata": {},
   "outputs": [],
   "source": [
    "class BAMinput(object):\n",
    "    \"\"\"input bam file and check format\"\"\"\n",
    "    \n",
    "    def __init__(self,directory):\n",
    "        self.directory=directory\n",
    "    \n",
    "    def ValidateBAM(self,crash=False):\n",
    "        self.valinfo=os.popen(\"java -jar /home/kechanglin/picard.jar ValidateSamFile I=\"+self.directory)\n",
    "        for i in self.valinfo:\n",
    "            if not re.match('ERROR',str(i))== None:\n",
    "                print(i)\n",
    "                self.crash=True\n",
    "        if crash==True:\n",
    "            raise ValueError('fatal error in file format!')\n",
    "        \n",
    "    \n",
    "    def gen_identification(self):\n",
    "        self.treatment=False\n",
    "        self.BAMheader=pysam.view(\"-H\",self.directory)\n",
    "        self.platform=str(re.findall(r'PL:\\w+',self.BAMheader))[5:-2] #output platform name\n",
    "        try:\n",
    "            if plat[str.upper(self.platform)]=='gen3':\n",
    "                self.treatment=True #treatment arg is for furture gen3 file handling\n",
    "        except KeyError as e:\n",
    "            raise KeyError('no equipment info provided, thus unable to tell sequencing technology, it could be a converted file.')\n",
    "        finally:\n",
    "            return self.treatment\n",
    "        \n",
    "# @staticmethod\n",
    "def check_md5(filepath, md5):\n",
    "    \"\"\"Check File md5.\"\"\"\n",
    "    filemd5 = FileMD5(filepath)\n",
    "    return filemd5.md5check(md5)\n",
    "        "
   ]
  },
  {
   "cell_type": "code",
   "execution_count": 206,
   "metadata": {},
   "outputs": [],
   "source": [
    "class FileMD5(object):\n",
    "    \"\"\"Generate md5.\"\"\"\n",
    "\n",
    "    def __init__(self, filepath):\n",
    "        \"\"\"Init class.\"\"\"\n",
    "        filepath = os.path.abspath(filepath)\n",
    "        if not os.path.isfile(filepath):\n",
    "            raise ValueError(\"Can not find file %s!\" % filepath)\n",
    "        self.filepath = filepath\n",
    "\n",
    "    @property\n",
    "    def md5(self):\n",
    "        \"\"\"Get md5 of file.\"\"\"\n",
    "        hash_md5 = hashlib.md5()\n",
    "        with open(self.filepath, \"rb\") as f:\n",
    "            for chunk in iter(lambda: f.read(4096), b\"\"):\n",
    "                hash_md5.update(chunk)\n",
    "        return hash_md5.hexdigest()\n",
    "\n",
    "    def write_md5(self, outfile):\n",
    "        \"\"\"Write md5 of file to outfile.\"\"\"\n",
    "        with open(outfile, 'wt') as wt:\n",
    "            wt.write('%s  %s' % (self.md5, self.filepath))\n",
    "\n",
    "    def md5check(self, md5):\n",
    "        \"\"\"Check md5 file.\"\"\"\n",
    "        if self.md5 != md5:\n",
    "            return False\n",
    "        else:\n",
    "            return True\n",
    "\n",
    "#maybe useless code\n",
    "def md5sum(md5file):\n",
    "    \"\"\"Md5sum -c file.\"\"\"\n",
    "    md5, filename = ('',) * 2\n",
    "    with open(md5file) as wt:\n",
    "        for line in wt:\n",
    "            if line.startswith(\"MD5\"):\n",
    "                filename, md5 = line.split('=')\n",
    "                filename = filename.replace('MD5(', '').replace(')', '')\n",
    "            else:\n",
    "                md5, filename = line.split('  ')[:2]\n",
    "            md5 = md5.strip()\n",
    "            filename = filename.strip()\n",
    "            filemd5 = FileMD5(filename)\n",
    "            infor = 'succeed' if filemd5.md5check(md5) else 'fail'\n",
    "            print('{} md5 check: {}'.format(filename, infor))\n"
   ]
  },
  {
   "cell_type": "code",
   "execution_count": 222,
   "metadata": {},
   "outputs": [],
   "source": [
    "import logging\n",
    "import os\n",
    "import re\n",
    "import sys\n",
    "import time\n",
    "import argparse\n",
    "import json\n",
    "import pysam\n",
    "import hashlib\n",
    "import subprocess\n",
    "\n",
    "plat={\n",
    "    'PACBIO':'gen3',\n",
    "    'SEQUEL':'gen3',\n",
    "    'ILLUMINA':'gen2',\n",
    "    'MGISEQ':'gen2'\n",
    "}\n",
    "\n",
    "qualimap_loc=\"/home/kechanglin/biosoft/qualimap_v2.2.1/qualimap\"\n",
    "qualimap_out=\"/home/kechanglin/data\""
   ]
  },
  {
   "cell_type": "code",
   "execution_count": 226,
   "metadata": {},
   "outputs": [],
   "source": [
    "\n",
    "\"\"\"Run system command.\"\"\"\n",
    "def run_cmd(cmd):\n",
    "    pipe = subprocess.Popen(cmd, shell=True, stdout=subprocess.PIPE,stderr=subprocess.PIPE)\n",
    "    stdout,stderr = pipe.communicate()\n",
    "    pipe.wait()\n",
    "    if pipe.returncode != 0:\n",
    "        raise ValueError(\"Failed to run command :%s, error mesages: %s.\" % (cmd, pipe.stderr.read().decode('utf-8')))\n",
    "    else:\n",
    "        return stdout,stderr\n",
    "        # return pipe.returncode,stdout,stderr\n",
    "    "
   ]
  },
  {
   "cell_type": "code",
   "execution_count": 140,
   "metadata": {},
   "outputs": [
    {
     "name": "stdout",
     "output_type": "stream",
     "text": [
      "ERROR:INVALID_MAPPING_QUALITY\t39161\n",
      "\n",
      "ERROR:MISSING_PLATFORM_VALUE\t1\n",
      "\n"
     ]
    },
    {
     "ename": "ValueError",
     "evalue": "fatal error in file format!",
     "output_type": "error",
     "traceback": [
      "\u001b[0;31m---------------------------------------------------------------------------\u001b[0m",
      "\u001b[0;31mValueError\u001b[0m                                Traceback (most recent call last)",
      "\u001b[0;32m<ipython-input-140-7e86752ff54b>\u001b[0m in \u001b[0;36m<module>\u001b[0;34m\u001b[0m\n\u001b[1;32m      1\u001b[0m \u001b[0mtestinstance\u001b[0m\u001b[0;34m=\u001b[0m\u001b[0mBAMinput\u001b[0m\u001b[0;34m(\u001b[0m\u001b[0mlocation\u001b[0m\u001b[0;34m)\u001b[0m\u001b[0;34m\u001b[0m\u001b[0;34m\u001b[0m\u001b[0m\n\u001b[0;32m----> 2\u001b[0;31m \u001b[0mtestinstance\u001b[0m\u001b[0;34m.\u001b[0m\u001b[0mValidateBAM\u001b[0m\u001b[0;34m(\u001b[0m\u001b[0;34m)\u001b[0m\u001b[0;34m\u001b[0m\u001b[0;34m\u001b[0m\u001b[0m\n\u001b[0m\u001b[1;32m      3\u001b[0m \u001b[0mtestinstance\u001b[0m\u001b[0;34m.\u001b[0m\u001b[0mgen_identification\u001b[0m\u001b[0;34m(\u001b[0m\u001b[0;34m)\u001b[0m\u001b[0;34m\u001b[0m\u001b[0;34m\u001b[0m\u001b[0m\n",
      "\u001b[0;32m<ipython-input-138-08307c64de55>\u001b[0m in \u001b[0;36mValidateBAM\u001b[0;34m(self, crash)\u001b[0m\n\u001b[1;32m     12\u001b[0m                 \u001b[0mcrash\u001b[0m\u001b[0;34m=\u001b[0m\u001b[0;32mTrue\u001b[0m\u001b[0;34m\u001b[0m\u001b[0;34m\u001b[0m\u001b[0m\n\u001b[1;32m     13\u001b[0m         \u001b[0;32mif\u001b[0m \u001b[0mcrash\u001b[0m\u001b[0;34m==\u001b[0m\u001b[0;32mTrue\u001b[0m\u001b[0;34m:\u001b[0m\u001b[0;34m\u001b[0m\u001b[0;34m\u001b[0m\u001b[0m\n\u001b[0;32m---> 14\u001b[0;31m             \u001b[0;32mraise\u001b[0m \u001b[0mValueError\u001b[0m\u001b[0;34m(\u001b[0m\u001b[0;34m'fatal error in file format!'\u001b[0m\u001b[0;34m)\u001b[0m\u001b[0;34m\u001b[0m\u001b[0;34m\u001b[0m\u001b[0m\n\u001b[0m\u001b[1;32m     15\u001b[0m \u001b[0;34m\u001b[0m\u001b[0m\n\u001b[1;32m     16\u001b[0m \u001b[0;34m\u001b[0m\u001b[0m\n",
      "\u001b[0;31mValueError\u001b[0m: fatal error in file format!"
     ]
    }
   ],
   "source": [
    "testinstance=BAMinput(location)\n",
    "testinstance.ValidateBAM()\n",
    "testinstance.gen_identification()"
   ]
  },
  {
   "cell_type": "code",
   "execution_count": 225,
   "metadata": {},
   "outputs": [
    {
     "name": "stdout",
     "output_type": "stream",
     "text": [
      "ERROR: Read name a8234680, A platform (PL) attribute was not found for read group \n",
      "\n",
      "ERROR: Record 1, Read name m54152_170704_111850/4981715/53632_58642, MAPQ should be 0 for unmapped read.\n",
      "\n",
      "ERROR: Record 2, Read name m54152_170704_111850/5439729/0_3464, MAPQ should be 0 for unmapped read.\n",
      "\n",
      "ERROR: Record 3, Read name m54152_170704_111850/5571059/0_4789, MAPQ should be 0 for unmapped read.\n",
      "\n",
      "ERROR: Record 4, Read name m54152_170704_111850/5636569/0_9505, MAPQ should be 0 for unmapped read.\n",
      "\n",
      "ERROR: Record 5, Read name m54152_170704_111850/5702167/0_22561, MAPQ should be 0 for unmapped read.\n",
      "\n",
      "ERROR: Record 6, Read name m54152_170704_111850/5833093/0_9037, MAPQ should be 0 for unmapped read.\n",
      "\n",
      "ERROR: Record 7, Read name m54152_170704_111850/5833093/9075_14919, MAPQ should be 0 for unmapped read.\n",
      "\n",
      "ERROR: Record 8, Read name m54152_170704_111850/5833192/0_15718, MAPQ should be 0 for unmapped read.\n",
      "\n",
      "ERROR: Record 9, Read name m54152_170704_111850/5833243/0_26564, MAPQ should be 0 for unmapped read.\n",
      "\n",
      "ERROR: Record 10, Read name m54152_170704_111850/5898691/168_5744, MAPQ should be 0 for unmapped read.\n",
      "\n",
      "ERROR: Record 11, Read name m54152_170704_111850/5898691/5788_9623, MAPQ should be 0 for unmapped read.\n",
      "\n",
      "ERROR: Record 12, Read name m54152_170704_111850/5898693/0_17527, MAPQ should be 0 for unmapped read.\n",
      "\n",
      "ERROR: Record 13, Read name m54152_170704_111850/5898693/17574_23749, MAPQ should be 0 for unmapped read.\n",
      "\n",
      "ERROR: Record 14, Read name m54152_170704_111850/5898712/0_18429, MAPQ should be 0 for unmapped read.\n",
      "\n",
      "ERROR: Record 15, Read name m54152_170704_111850/5898712/18471_34596, MAPQ should be 0 for unmapped read.\n",
      "\n",
      "ERROR: Record 16, Read name m54152_170704_111850/5898917/0_3871, MAPQ should be 0 for unmapped read.\n",
      "\n",
      "ERROR: Record 17, Read name m54152_170704_111850/5963979/0_18649, MAPQ should be 0 for unmapped read.\n",
      "\n",
      "ERROR: Record 18, Read name m54152_170704_111850/5964243/0_10511, MAPQ should be 0 for unmapped read.\n",
      "\n",
      "ERROR: Record 19, Read name m54152_170704_111850/5964511/0_625, MAPQ should be 0 for unmapped read.\n",
      "\n",
      "ERROR: Record 20, Read name m54152_170704_111850/5964511/672_5683, MAPQ should be 0 for unmapped read.\n",
      "\n",
      "ERROR: Record 21, Read name m54152_170704_111850/6029479/0_6569, MAPQ should be 0 for unmapped read.\n",
      "\n",
      "ERROR: Record 22, Read name m54152_170704_111850/6029518/0_444, MAPQ should be 0 for unmapped read.\n",
      "\n",
      "ERROR: Record 23, Read name m54152_170704_111850/6029701/0_4075, MAPQ should be 0 for unmapped read.\n",
      "\n",
      "ERROR: Record 24, Read name m54152_170704_111850/6029822/0_9454, MAPQ should be 0 for unmapped read.\n",
      "\n",
      "ERROR: Record 25, Read name m54152_170704_111850/6029873/0_18134, MAPQ should be 0 for unmapped read.\n",
      "\n",
      "ERROR: Record 26, Read name m54152_170704_111850/6029994/68_15851, MAPQ should be 0 for unmapped read.\n",
      "\n",
      "ERROR: Record 27, Read name m54152_170704_111850/6029994/15898_29845, MAPQ should be 0 for unmapped read.\n",
      "\n",
      "ERROR: Record 28, Read name m54152_170704_111850/6030307/0_306, MAPQ should be 0 for unmapped read.\n",
      "\n",
      "ERROR: Record 29, Read name m54152_170704_111850/6095008/0_5879, MAPQ should be 0 for unmapped read.\n",
      "\n",
      "ERROR: Record 30, Read name m54152_170704_111850/6095064/0_15116, MAPQ should be 0 for unmapped read.\n",
      "\n",
      "ERROR: Record 31, Read name m54152_170704_111850/6095064/15165_17971, MAPQ should be 0 for unmapped read.\n",
      "\n",
      "ERROR: Record 32, Read name m54152_170704_111850/6095079/0_16334, MAPQ should be 0 for unmapped read.\n",
      "\n",
      "ERROR: Record 33, Read name m54152_170704_111850/6095079/16378_20050, MAPQ should be 0 for unmapped read.\n",
      "\n",
      "ERROR: Record 34, Read name m54152_170704_111850/6095153/0_1010, MAPQ should be 0 for unmapped read.\n",
      "\n",
      "ERROR: Record 35, Read name m54152_170704_111850/6095196/0_15197, MAPQ should be 0 for unmapped read.\n",
      "\n",
      "ERROR: Record 36, Read name m54152_170704_111850/6095293/0_43679, MAPQ should be 0 for unmapped read.\n",
      "\n",
      "ERROR: Record 37, Read name m54152_170704_111850/6095412/0_10084, MAPQ should be 0 for unmapped read.\n",
      "\n",
      "ERROR: Record 38, Read name m54152_170704_111850/6160673/21180_21396, MAPQ should be 0 for unmapped read.\n",
      "\n",
      "ERROR: Record 39, Read name m54152_170704_111850/6160734/3928_20761, MAPQ should be 0 for unmapped read.\n",
      "\n",
      "ERROR: Record 40, Read name m54152_170704_111850/6160734/20806_31167, MAPQ should be 0 for unmapped read.\n",
      "\n",
      "ERROR: Record 41, Read name m54152_170704_111850/6160784/0_12672, MAPQ should be 0 for unmapped read.\n",
      "\n",
      "ERROR: Record 42, Read name m54152_170704_111850/6160784/12731_27261, MAPQ should be 0 for unmapped read.\n",
      "\n",
      "ERROR: Record 43, Read name m54152_170704_111850/6160784/27305_32144, MAPQ should be 0 for unmapped read.\n",
      "\n",
      "ERROR: Record 44, Read name m54152_170704_111850/6160825/0_24103, MAPQ should be 0 for unmapped read.\n",
      "\n",
      "ERROR: Record 45, Read name m54152_170704_111850/6160825/24143_49275, MAPQ should be 0 for unmapped read.\n",
      "\n",
      "ERROR: Record 46, Read name m54152_170704_111850/6160825/49324_55759, MAPQ should be 0 for unmapped read.\n",
      "\n",
      "ERROR: Record 47, Read name m54152_170704_111850/6160904/22911_32892, MAPQ should be 0 for unmapped read.\n",
      "\n",
      "ERROR: Record 48, Read name m54152_170704_111850/6160904/32935_36925, MAPQ should be 0 for unmapped read.\n",
      "\n",
      "ERROR: Record 49, Read name m54152_170704_111850/6161031/101_13711, MAPQ should be 0 for unmapped read.\n",
      "\n",
      "ERROR: Record 50, Read name m54152_170704_111850/6161031/13756_13851, MAPQ should be 0 for unmapped read.\n",
      "\n",
      "ERROR: Record 51, Read name m54152_170704_111850/6161036/0_33308, MAPQ should be 0 for unmapped read.\n",
      "\n",
      "ERROR: Record 52, Read name m54152_170704_111850/6161038/268_13904, MAPQ should be 0 for unmapped read.\n",
      "\n",
      "ERROR: Record 53, Read name m54152_170704_111850/6161052/95_18255, MAPQ should be 0 for unmapped read.\n",
      "\n",
      "ERROR: Record 54, Read name m54152_170704_111850/6161213/0_16053, MAPQ should be 0 for unmapped read.\n",
      "\n",
      "ERROR: Record 55, Read name m54152_170704_111850/6226039/0_17745, MAPQ should be 0 for unmapped read.\n",
      "\n",
      "ERROR: Record 56, Read name m54152_170704_111850/6226039/17788_22969, MAPQ should be 0 for unmapped read.\n",
      "\n",
      "ERROR: Record 57, Read name m54152_170704_111850/6226039/23014_38090, MAPQ should be 0 for unmapped read.\n",
      "\n",
      "ERROR: Record 58, Read name m54152_170704_111850/6226082/0_24950, MAPQ should be 0 for unmapped read.\n",
      "\n",
      "ERROR: Record 59, Read name m54152_170704_111850/6226369/0_6813, MAPQ should be 0 for unmapped read.\n",
      "\n",
      "ERROR: Record 60, Read name m54152_170704_111850/6226389/0_15715, MAPQ should be 0 for unmapped read.\n",
      "\n",
      "ERROR: Record 61, Read name m54152_170704_111850/6226389/15760_26681, MAPQ should be 0 for unmapped read.\n",
      "\n",
      "ERROR: Record 62, Read name m54152_170704_111850/6226749/0_16343, MAPQ should be 0 for unmapped read.\n",
      "\n",
      "ERROR: Record 63, Read name m54152_170704_111850/6291630/0_13999, MAPQ should be 0 for unmapped read.\n",
      "\n",
      "ERROR: Record 64, Read name m54152_170704_111850/6291843/0_11936, MAPQ should be 0 for unmapped read.\n",
      "\n",
      "ERROR: Record 65, Read name m54152_170704_111850/6291872/23_18891, MAPQ should be 0 for unmapped read.\n",
      "\n",
      "ERROR: Record 66, Read name m54152_170704_111850/6357212/0_419, MAPQ should be 0 for unmapped read.\n",
      "\n",
      "ERROR: Record 67, Read name m54152_170704_111850/6422791/0_6753, MAPQ should be 0 for unmapped read.\n",
      "\n",
      "ERROR: Record 68, Read name m54152_170704_111850/6423037/0_5109, MAPQ should be 0 for unmapped read.\n",
      "\n",
      "ERROR: Record 69, Read name m54152_170704_111850/6423209/0_17916, MAPQ should be 0 for unmapped read.\n",
      "\n",
      "ERROR: Record 70, Read name m54152_170704_111850/6488240/0_37706, MAPQ should be 0 for unmapped read.\n",
      "\n",
      "ERROR: Record 71, Read name m54152_170704_111850/6488434/0_22430, MAPQ should be 0 for unmapped read.\n",
      "\n",
      "ERROR: Record 72, Read name m54152_170704_111850/6488434/22471_41208, MAPQ should be 0 for unmapped read.\n",
      "\n",
      "ERROR: Record 73, Read name m54152_170704_111850/6488506/0_10868, MAPQ should be 0 for unmapped read.\n",
      "\n",
      "ERROR: Record 74, Read name m54152_170704_111850/6488506/10914_15382, MAPQ should be 0 for unmapped read.\n",
      "\n",
      "ERROR: Record 75, Read name m54152_170704_111850/6488556/0_12668, MAPQ should be 0 for unmapped read.\n",
      "\n",
      "ERROR: Record 76, Read name m54152_170704_111850/6488556/12712_14371, MAPQ should be 0 for unmapped read.\n",
      "\n",
      "ERROR: Record 77, Read name m54152_170704_111850/6488556/14420_15347, MAPQ should be 0 for unmapped read.\n",
      "\n",
      "ERROR: Record 78, Read name m54152_170704_111850/6488556/15401_27302, MAPQ should be 0 for unmapped read.\n",
      "\n",
      "ERROR: Record 79, Read name m54152_170704_111850/6488556/27348_42257, MAPQ should be 0 for unmapped read.\n",
      "\n",
      "ERROR: Record 80, Read name m54152_170704_111850/6488556/42305_56933, MAPQ should be 0 for unmapped read.\n",
      "\n",
      "ERROR: Record 81, Read name m54152_170704_111850/6488556/56975_62161, MAPQ should be 0 for unmapped read.\n",
      "\n",
      "ERROR: Record 82, Read name m54152_170704_111850/6488564/0_1304, MAPQ should be 0 for unmapped read.\n",
      "\n",
      "ERROR: Record 83, Read name m54152_170704_111850/6488564/1343_4918, MAPQ should be 0 for unmapped read.\n",
      "\n",
      "ERROR: Record 84, Read name m54152_170704_111850/6488833/0_12051, MAPQ should be 0 for unmapped read.\n",
      "\n",
      "ERROR: Record 85, Read name m54152_170704_111850/6553896/0_49330, MAPQ should be 0 for unmapped read.\n",
      "\n",
      "ERROR: Record 86, Read name m54152_170704_111850/6553896/49375_59679, MAPQ should be 0 for unmapped read.\n",
      "\n",
      "ERROR: Record 87, Read name m54152_170704_111850/6553941/0_5266, MAPQ should be 0 for unmapped read.\n",
      "\n",
      "ERROR: Record 88, Read name m54152_170704_111850/6554008/3430_31242, MAPQ should be 0 for unmapped read.\n",
      "\n",
      "ERROR: Record 89, Read name m54152_170704_111850/6554056/0_30458, MAPQ should be 0 for unmapped read.\n",
      "\n",
      "ERROR: Record 90, Read name m54152_170704_111850/6554056/30501_40783, MAPQ should be 0 for unmapped read.\n",
      "\n",
      "ERROR: Record 91, Read name m54152_170704_111850/6554065/0_6133, MAPQ should be 0 for unmapped read.\n",
      "\n",
      "ERROR: Record 92, Read name m54152_170704_111850/6554065/6192_12574, MAPQ should be 0 for unmapped read.\n",
      "\n",
      "ERROR: Record 93, Read name m54152_170704_111850/6554073/0_676, MAPQ should be 0 for unmapped read.\n",
      "\n",
      "ERROR: Record 94, Read name m54152_170704_111850/6554297/0_26279, MAPQ should be 0 for unmapped read.\n",
      "\n",
      "ERROR: Record 95, Read name m54152_170704_111850/6554297/26320_30161, MAPQ should be 0 for unmapped read.\n",
      "\n",
      "ERROR: Record 96, Read name m54152_170704_111850/6619221/0_16119, MAPQ should be 0 for unmapped read.\n",
      "\n",
      "ERROR: Record 97, Read name m54152_170704_111850/6619236/0_16936, MAPQ should be 0 for unmapped read.\n",
      "\n",
      "ERROR: Record 98, Read name m54152_170704_111850/6619374/0_2434, MAPQ should be 0 for unmapped read.\n",
      "\n",
      "ERROR: Record 99, Read name m54152_170704_111850/6619436/0_14489, MAPQ should be 0 for unmapped read.\n",
      "\n"
     ]
    }
   ],
   "source": [
    "testinstance=BAMinput(location)\n",
    "testinstance.ValidateBAM()\n",
    "#testinstance.gen_identification()"
   ]
  },
  {
   "cell_type": "code",
   "execution_count": 214,
   "metadata": {},
   "outputs": [
    {
     "data": {
      "text/plain": [
       "False"
      ]
     },
     "execution_count": 214,
     "metadata": {},
     "output_type": "execute_result"
    }
   ],
   "source": [
    "check_md5(location1,'093dd0fec383a9d9')"
   ]
  },
  {
   "cell_type": "code",
   "execution_count": 221,
   "metadata": {},
   "outputs": [
    {
     "name": "stdout",
     "output_type": "stream",
     "text": [
      "<os._wrap_close object at 0x7f49c67633c8>\n"
     ]
    }
   ],
   "source": [
    "qc_info=os.popen(qualimap_loc+' bamqc -bam '+location+' -outdir '+qualimap_out+' -outformat PDF:HTML')\n",
    "print(qc_info)"
   ]
  },
  {
   "cell_type": "code",
   "execution_count": 251,
   "metadata": {},
   "outputs": [],
   "source": [
    "qc_sub_run=run_cmd(qualimap_loc+' bamqc -bam '+location+' -outdir '+qualimap_out+' -outformat PDF:HTML')"
   ]
  },
  {
   "cell_type": "code",
   "execution_count": 248,
   "metadata": {},
   "outputs": [],
   "source": [
    "run_list=str(qc_sub_run[0]).split('\\\\n')"
   ]
  },
  {
   "cell_type": "code",
   "execution_count": 250,
   "metadata": {},
   "outputs": [
    {
     "name": "stdout",
     "output_type": "stream",
     "text": [
      "b'Java memory size is set to 1200M\n",
      "Launching application...\n",
      "\n",
      "QualiMap v.2.2.1\n",
      "Built on 2016-10-03 18:14\n",
      "\n",
      "Selected tool: bamqc\n",
      "Available memory (Mb): 32\n",
      "Max memory (Mb): 1118\n",
      "Wed Jul 31 16:07:23 CST 2019\\t\\tWARNING\\tOutput folder already exists, the results will be saved there\n",
      "\n",
      "Starting bam qc....\n",
      "Loading sam header...\n",
      "Wed Jul 31 16:07:23 CST 2019\\t\\tWARNING\\tNon-standard header SortOrder value!\n",
      "Loading locator...\n",
      "Loading reference...\n",
      "Number of windows: 400, effective number of windows: 0\n",
      "Chunk of reads size: 1000\n",
      "Number of threads: 4\n",
      "Total processed windows:0\n",
      "Number of reads: 39161\n",
      "Number of valid reads: 0\n",
      "Number of correct strand reads:0\n",
      "Wed Jul 31 16:07:38 CST 2019\\t\\tWARNING\\tSAMRecordParser marked 39161 problematic reads.\n",
      "\n",
      "Inside of regions...\n",
      "Num mapped reads: 0\n",
      "Num mapped first of pair: 0\n",
      "Num mapped second of pair: 0\n",
      "Num singletons: 0\n",
      "Time taken to analyze reads: 14\n",
      "\n",
      "WARNING: number of mapped reads equals zero\n",
      "Overall analysis time: 14\n",
      "end of bam qc\n",
      "Computing report...\n",
      "Writing PDF:HTML report...\n",
      "HTML report created successfully\n",
      "\n",
      "PDF file created successfully \n",
      "\n",
      "Finished\n",
      "'\n"
     ]
    }
   ],
   "source": [
    "for i in range(len(run_list)):\n",
    "    print(run_list[i])\n"
   ]
  },
  {
   "cell_type": "code",
   "execution_count": 255,
   "metadata": {},
   "outputs": [
    {
     "data": {
      "text/plain": [
       "'2cb38082d6d46d425cb7181665e38147'"
      ]
     },
     "execution_count": 255,
     "metadata": {},
     "output_type": "execute_result"
    }
   ],
   "source": [
    "import hashlib\n",
    "#individual check on md5\n",
    "def md5(filepath):\n",
    "    \"\"\"Get md5 of file.\"\"\"\n",
    "    hash_md5 = hashlib.md5()\n",
    "    with open(filepath, \"rb\") as f:\n",
    "        for chunk in iter(lambda: f.read(4096), b\"\"):\n",
    "            hash_md5.update(chunk)\n",
    "    return hash_md5.hexdigest()\n",
    "\n",
    "md5(location)\n",
    "    \n"
   ]
  },
  {
   "cell_type": "code",
   "execution_count": null,
   "metadata": {},
   "outputs": [],
   "source": []
  }
 ],
 "metadata": {
  "kernelspec": {
   "display_name": "Python 3",
   "language": "python",
   "name": "python3"
  },
  "language_info": {
   "codemirror_mode": {
    "name": "ipython",
    "version": 3
   },
   "file_extension": ".py",
   "mimetype": "text/x-python",
   "name": "python",
   "nbconvert_exporter": "python",
   "pygments_lexer": "ipython3",
   "version": "3.7.3"
  }
 },
 "nbformat": 4,
 "nbformat_minor": 2
}
